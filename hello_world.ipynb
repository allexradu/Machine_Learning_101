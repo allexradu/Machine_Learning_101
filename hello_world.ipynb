{
 "cells": [
  {
   "cell_type": "code",
   "execution_count": 18,
   "metadata": {
    "pycharm": {
     "name": "#%%\n"
    }
   },
   "outputs": [],
   "source": [
    "import pandas as pd\n",
    "from sklearn.tree import DecisionTreeClassifier\n",
    "# from sklearn.model_selection import train_test_split\n",
    "# from sklearn.metrics import accuracy_score\n",
    "import joblib\n",
    "from sklearn import tree\n",
    "\n",
    "music_data = pd.read_csv('music.csv')\n",
    "X = music_data.drop(columns =['genre'])\n",
    "y = music_data['genre']\n",
    "# X_train, X_test, y_train, y_test = train_test_split(X, y, test_size = 0.2)\n",
    "\n",
    "model = DecisionTreeClassifier()\n",
    "\n",
    "\n",
    "# model.fit(X_train, y_train)\n",
    "\n",
    "model.fit(X, y)\n",
    "\n",
    "# model.predict([ [21, 1], [22,0] ])\n",
    "# predictions = model.predict(X_test)\n",
    "   \n",
    "# score = accuracy_score(y_test, predictions)\n",
    "\n",
    "# joblib.dump(model, 'music-recommanded.joblib')\n",
    "# model = joblib.load('music-recommanded.joblib')\n",
    "\n",
    "# model.predict([ [21, 1] ])\n",
    "\n",
    "tree.export_graphviz(model, out_file = 'nusic-recommander.dot',\n",
    "                     feature_names = ['age','genders'], class_names = sorted(y.unique()), label = 'all',\n",
    "                     rounded = True, filled = True)\n"
   ]
  },
  {
   "cell_type": "code",
   "execution_count": null,
   "metadata": {},
   "outputs": [],
   "source": []
  }
 ],
 "metadata": {
  "kernelspec": {
   "display_name": "Python 3",
   "language": "python",
   "name": "python3"
  },
  "language_info": {
   "codemirror_mode": {
    "name": "ipython",
    "version": 3
   },
   "file_extension": ".py",
   "mimetype": "text/x-python",
   "name": "python",
   "nbconvert_exporter": "python",
   "pygments_lexer": "ipython3",
   "version": "3.8.3"
  }
 },
 "nbformat": 4,
 "nbformat_minor": 4
}